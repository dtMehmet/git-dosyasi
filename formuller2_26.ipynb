{
  "nbformat": 4,
  "nbformat_minor": 0,
  "metadata": {
    "colab": {
      "name": "formuller2-26.ipynb",
      "private_outputs": true,
      "provenance": []
    },
    "kernelspec": {
      "name": "python3",
      "display_name": "Python 3"
    },
    "language_info": {
      "name": "python"
    }
  },
  "cells": [
    {
      "cell_type": "code",
      "execution_count": null,
      "metadata": {
        "id": "XIZz25GSQZIQ"
      },
      "outputs": [],
      "source": [
        "#PLACE HOLDER\n",
        "a, _, B, _, = (10, 20, 30, 40)\n",
        "print(a)\n",
        "\n",
        "print(B)\n",
        "\n",
        "print(a,B)"
      ]
    },
    {
      "cell_type": "code",
      "source": [
        "number = 5555\n",
        "m = len(str(number))\n",
        "temp = number\n",
        "add_sum = 0\n",
        "while temp!=0:\n",
        "    #get the last digit in the number\n",
        "    k = temp%10 \n",
        "    #find k^m\n",
        "    add_sum +=k**m \n",
        "    #floor division \n",
        "    #which update number with second last digit as last digit\n",
        "    temp = temp//10 \n",
        "if add_sum==number:\n",
        "    print('Armstrong Number in Python')\n",
        "else:\n",
        "    print('Not a Armstrong Number in Python')\n"
      ],
      "metadata": {
        "id": "EbHgaGN_aJig"
      },
      "execution_count": null,
      "outputs": []
    },
    {
      "cell_type": "code",
      "source": [
        "#tas kagit makas\n",
        "import random\n",
        "\n",
        "def rockscipap():\n",
        "    user_choice = None\n",
        "    user_score = 0\n",
        "    comp_score = 0\n",
        "    \n",
        "    \n",
        "    while user_choice != \"exit\": # kullanıcı exit yazdığında döngü sona erecek\n",
        "        choices = [\"r\", \"s\", \"p\"]\n",
        "        user_choice = input(\"What's your choice? Rock(r), Scissors(s) or Paper(p): \").lower().strip()\n",
        "        while user_choice not in choices and user_choice != \"exit\": # farklı karakter yazma ihtimaline karşı\n",
        "            user_choice = input(\"Invalid choice..\")\n",
        "        if user_choice == \"exit\": # çıkış komutu\n",
        "            print(\"You ended the game...\")\n",
        "            break\n",
        "        comp_choice = random.choice(choices)\n",
        "        if comp_choice == user_choice: # beraberlik\n",
        "            print(\"Tie!\")\n",
        "        elif (user_choice == \"p\" and comp_choice == \"r\") or (user_choice == \"r\" and comp_choice == \"s\") \\\n",
        "            or (user_choice == \"s\" and comp_choice == \"p\"): # kullanıcı kazanırsa\n",
        "            print(\"You won!!\")\n",
        "            user_score += 1\n",
        "        else: # bilgisayar kazanırsa\n",
        "            print(\"You lost...\")\n",
        "            comp_score += 1\n",
        "        if user_score == 3:\n",
        "            print(\"Congrats.... You deserved a chocolate...\")\n",
        "            break\n",
        "        elif comp_score == 3:\n",
        "            print(\"Sorry.. You lost the game...\")\n",
        "            break\n",
        "       \n",
        "        print(f\"Your choice: {user_choice}\", f\"Computer choice: {comp_choice}\", sep=\" || \") # elin sonuçları\n",
        "        print(f\"Your score: {user_score}\", f\"Computer score: {comp_score}\", sep=\"\\n\")\n",
        "\n",
        "\n",
        "rockscipap()"
      ],
      "metadata": {
        "id": "aN-RDf1paJmX"
      },
      "execution_count": null,
      "outputs": []
    },
    {
      "cell_type": "code",
      "source": [
        ""
      ],
      "metadata": {
        "id": "q-e0k74YaJqD"
      },
      "execution_count": null,
      "outputs": []
    },
    {
      "cell_type": "code",
      "source": [
        ""
      ],
      "metadata": {
        "id": "ptxh-fr_aJtJ"
      },
      "execution_count": null,
      "outputs": []
    },
    {
      "cell_type": "code",
      "source": [
        ""
      ],
      "metadata": {
        "id": "ziOXmzMSaJwN"
      },
      "execution_count": null,
      "outputs": []
    },
    {
      "cell_type": "code",
      "source": [
        ""
      ],
      "metadata": {
        "id": "T_ca89itaJzW"
      },
      "execution_count": null,
      "outputs": []
    },
    {
      "cell_type": "code",
      "source": [
        ""
      ],
      "metadata": {
        "id": "0fBz3RxeaJ2H"
      },
      "execution_count": null,
      "outputs": []
    },
    {
      "cell_type": "code",
      "source": [
        "x, y, *z, = (11, 22, 33, 44, 55)\n",
        "\n",
        "print (*z)\n",
        "print(x)"
      ],
      "metadata": {
        "id": "fIRqew_RSBGn"
      },
      "execution_count": null,
      "outputs": []
    },
    {
      "cell_type": "code",
      "source": [
        "x, y, *_, t = (11, 22, 33, 44, 55)\n",
        "\n",
        "print (*_)\n",
        "print(x)\n",
        "print(t)"
      ],
      "metadata": {
        "id": "ev8hQXHdSBKO"
      },
      "execution_count": null,
      "outputs": []
    },
    {
      "cell_type": "code",
      "source": [
        ""
      ],
      "metadata": {
        "id": "c2IQxpqySBNc"
      },
      "execution_count": null,
      "outputs": []
    },
    {
      "cell_type": "code",
      "source": [
        ""
      ],
      "metadata": {
        "id": "-HD9O4VwSBT7"
      },
      "execution_count": null,
      "outputs": []
    }
  ]
}