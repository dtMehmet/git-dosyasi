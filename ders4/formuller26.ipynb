{
  "nbformat": 4,
  "nbformat_minor": 0,
  "metadata": {
    "colab": {
      "name": "formuller26.ipynb",
      "private_outputs": true,
      "provenance": [],
      "collapsed_sections": []
    },
    "kernelspec": {
      "name": "python3",
      "display_name": "Python 3"
    },
    "language_info": {
      "name": "python"
    }
  },
  "cells": [
    {
      "cell_type": "code",
      "source": [
        "#LISTE YAZDIRMA\n",
        "b= list(range(11))\n",
        "print(b)\n",
        "\n",
        "#TUPLE YAZDIRMA\n",
        "tuple(range(11)) \n",
        "\n",
        "\n"
      ],
      "metadata": {
        "id": "3vaCQymTLvCa"
      },
      "execution_count": null,
      "outputs": []
    },
    {
      "cell_type": "code",
      "source": [
        "#SET YAZDIRMA\n",
        "\n",
        "set(range(11))\n",
        "\n",
        "#YILDIZ RANGE FONKSIYONU\n",
        "\n",
        "print(*range(11))\n",
        "\n"
      ],
      "metadata": {
        "id": "PlS47cMRcSLo"
      },
      "execution_count": null,
      "outputs": []
    },
    {
      "cell_type": "code",
      "source": [
        "#5 TEN 25 E KADAR 2 SER YAZDIRMA\n",
        "print(*range(5,25,2))"
      ],
      "metadata": {
        "id": "IL2K6nwRc2n4"
      },
      "execution_count": null,
      "outputs": []
    },
    {
      "cell_type": "code",
      "source": [
        "#ZIP FONKSIYONLARI\n",
        "text=[\"one\",\"two\",\"three\",\"four\",\"five\"]\n",
        "numbers=[1, 2, 3, 4, 5, ]\n",
        "zipped= zip(text,numbers)\n",
        "zipped\n"
      ],
      "metadata": {
        "id": "JxRgAUjvjxC7"
      },
      "execution_count": null,
      "outputs": []
    },
    {
      "cell_type": "code",
      "source": [
        "# ZIP FONKSIYONU LISTE HALINDE YAZMA\n",
        "text=[\"one\",\"two\",\"three\",\"four\",\"five\"]\n",
        "numbers=[1, 2, 3, 4, 5, ]\n",
        "print(*zipped)\n",
        "\n",
        "#veya\n",
        "zipped=zip(text,numbers)\n",
        "list(zipped)\n",
        "  #veya  fonksiyonu tekrar yazip dict fonksiyonunu tekrar calistir\n",
        "zipped=zip(text,numbers)\n",
        "dict(zipped)\n"
      ],
      "metadata": {
        "id": "iUS1ua06jxTD"
      },
      "execution_count": null,
      "outputs": []
    },
    {
      "cell_type": "code",
      "source": [
        "# TEK SAYILARI VE CIFT SAYILARIN TOPLANDIGI LIST\n",
        "evens =[]\n",
        "odds = []\n",
        "\n",
        "list=range(10)\n",
        "for i in range(10):\n",
        "   if  i %2==0 :\n",
        "    evens.append(i)\n",
        "   else : \n",
        "     odds. append(i) \n",
        "print(\"evens :\",evens)\n",
        "print(\"odds :\", odds)     "
      ],
      "metadata": {
        "id": "tXAhRuDcjxd-"
      },
      "execution_count": null,
      "outputs": []
    },
    {
      "cell_type": "code",
      "source": [
        ""
      ],
      "metadata": {
        "id": "AB0jKbpbjxlQ"
      },
      "execution_count": null,
      "outputs": []
    },
    {
      "cell_type": "code",
      "source": [
        "#ASAGIYA DOGRU KATLARININ YAZDIRILMASI\n",
        "\n",
        "for i in range(26):\n",
        "    a=26-i\n",
        "    yazdirma=\"{0:65} {1:\" + str(a) + \"} {2:\" + str(i) + \"}\"\n",
        "  #  print(yazdirma.format(i, \".\" a, 10*i))\n",
        "    print(\"{0:45}  {1:26}\". format(i, 10**i))"
      ],
      "metadata": {
        "id": "Z7DHaLupMmpg"
      },
      "execution_count": null,
      "outputs": []
    },
    {
      "cell_type": "code",
      "source": [
        "# tek sayilarin ve cift sayilarin saydirilmasi\n",
        "list1=(11, 2, 24, 61, 48, 33, 3)\n",
        "evens=0\n",
        "odd=0\n",
        "\n",
        "for i in list1 :\n",
        "  if i %2==0 :\n",
        "    evens+=1\n",
        "  else :\n",
        "    odd+=1\n",
        "print(\"evens count :\", evens)\n",
        "print(\"odd count :\",odd)\n",
        "\n"
      ],
      "metadata": {
        "id": "pXImxbcCMmzI"
      },
      "execution_count": null,
      "outputs": []
    },
    {
      "cell_type": "code",
      "source": [
        "#1 ile 74 sayilari arasindaki rakamlarin toplamini bulmak"
      ],
      "metadata": {
        "id": "rgWJPsgbwGkp"
      },
      "execution_count": null,
      "outputs": []
    },
    {
      "cell_type": "code",
      "source": [
        "sum_num=0\n",
        "for i in range(1,75) :\n",
        "  sum_num+=i  \n",
        "print(sum_num)  \n",
        "\n",
        "  \n"
      ],
      "metadata": {
        "id": "W4a07oQMwGol"
      },
      "execution_count": null,
      "outputs": []
    },
    {
      "cell_type": "code",
      "source": [
        "#gunlerle sayilarin eslenmesi\n",
        "\n",
        "mon, tue, wed, thu, fri, sat, sun =tuple(range(1,8))\n",
        "print(mon)\n",
        "\n"
      ],
      "metadata": {
        "id": "aWmFzQb4wGwj"
      },
      "execution_count": null,
      "outputs": []
    },
    {
      "cell_type": "code",
      "source": [
        "tuple(range(1, 8))"
      ],
      "metadata": {
        "id": "vhmOmgd7wG3a"
      },
      "execution_count": null,
      "outputs": []
    },
    {
      "cell_type": "code",
      "source": [
        "#ASAGIYA KADAR TEKRARLAYARAK GITMEK\n",
        "\n",
        "for i in range(1,10):\n",
        "  \n",
        "  print(str(i) *i)"
      ],
      "metadata": {
        "id": "FGy7cxDfMm4D"
      },
      "execution_count": null,
      "outputs": []
    },
    {
      "cell_type": "code",
      "source": [
        "#1 DEN 11 E KADAR RANGE FONKSIYONU ILE YAZMA\n",
        "print(range(10,1,-1))\n",
        "\n",
        "\n",
        "#sirasiyla yazdirma\n",
        "print(*range(10))\n",
        "\n",
        "#sirasiyla tersten yazdirma\n",
        "print(*range(10,0,-1))"
      ],
      "metadata": {
        "id": "tgfncffjMm73"
      },
      "execution_count": null,
      "outputs": []
    },
    {
      "cell_type": "code",
      "execution_count": null,
      "metadata": {
        "id": "Tyq7mY9H-iZI"
      },
      "outputs": [],
      "source": [
        "#CARPIM TABLOSU\n",
        "number=int(input(\"write a number  :\"))\n",
        "\n",
        "for i in range(11):\n",
        "\n",
        " print(f\" {number} * {i} ={number*i} \")\n"
      ]
    }
  ]
}